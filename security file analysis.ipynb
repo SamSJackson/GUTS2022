{
 "cells": [
  {
   "cell_type": "code",
   "execution_count": 80,
   "id": "c22d2a61",
   "metadata": {},
   "outputs": [],
   "source": [
    "import pandas as pd\n",
    "import matplotlib.pyplot as plt\n",
    "from matplotlib.collections import LineCollection\n"
   ]
  },
  {
   "cell_type": "code",
   "execution_count": 2,
   "id": "3004ec5b",
   "metadata": {},
   "outputs": [],
   "source": [
    "location_data = pd.read_csv('data\\location_data.csv')\n"
   ]
  },
  {
   "cell_type": "code",
   "execution_count": 3,
   "id": "f9ef2c45",
   "metadata": {},
   "outputs": [],
   "source": [
    "people_data = pd.read_csv('data\\people_data.csv')"
   ]
  },
  {
   "cell_type": "code",
   "execution_count": 4,
   "id": "e58a7436",
   "metadata": {},
   "outputs": [],
   "source": [
    "security_data = pd.read_csv('data\\security_logs.csv')"
   ]
  },
  {
   "cell_type": "code",
   "execution_count": 5,
   "id": "401ce264",
   "metadata": {},
   "outputs": [],
   "source": [
    "timedataframe = pd.DataFrame(security_data.Time.value_counts())"
   ]
  },
  {
   "cell_type": "code",
   "execution_count": 6,
   "id": "65eeeab4",
   "metadata": {},
   "outputs": [],
   "source": [
    "class locations():\n",
    "    def __init__(self, location, locationname):\n",
    "        self._location = location \n",
    "        self._locationname = locationname\n",
    "        self.peoplepresent = {}\n",
    "    \n",
    "    @property\n",
    "    def location(self):\n",
    "        return self._location \n",
    "    @property\n",
    "    def locationname(self):\n",
    "        return self._locationname\n",
    "\n",
    "    \n",
    "    def peopleatlocation(self, time):\n",
    "        return self._peoplepresent[time]\n",
    "    \n",
    "    def peopleaddperson(self, time):\n",
    "        if time in self.peoplepresent:\n",
    "            self.peoplepresent[time] += 1\n",
    "        else:\n",
    "            self.peoplepresent[time] = 1\n",
    "            \n",
    "        \n",
    "    \n",
    "    \n",
    "    "
   ]
  },
  {
   "cell_type": "code",
   "execution_count": 7,
   "id": "52ad01dd",
   "metadata": {},
   "outputs": [],
   "source": [
    "time  = security_data['Time'].str.split('-', expand = True)"
   ]
  },
  {
   "cell_type": "code",
   "execution_count": 8,
   "id": "6e5a56a8",
   "metadata": {},
   "outputs": [],
   "source": [
    "newdataframe = pd.concat([security_data, time], axis = 1)"
   ]
  },
  {
   "cell_type": "code",
   "execution_count": 9,
   "id": "ab27fcfe",
   "metadata": {},
   "outputs": [],
   "source": [
    "newdataframe = newdataframe.drop('Time', axis = 1)"
   ]
  },
  {
   "cell_type": "code",
   "execution_count": 10,
   "id": "23bcf51f",
   "metadata": {},
   "outputs": [],
   "source": [
    "newdataframe = newdataframe.rename(columns = {0: 'Start', 1: 'End'})"
   ]
  },
  {
   "cell_type": "code",
   "execution_count": null,
   "id": "b82c5db1",
   "metadata": {},
   "outputs": [],
   "source": [
    "#list of people in the room if someone enters or leaves, create a key of the people iroomn the . \n",
    "# map users "
   ]
  },
  {
   "cell_type": "code",
   "execution_count": 11,
   "id": "3a4c64b8",
   "metadata": {},
   "outputs": [
    {
     "data": {
      "text/html": [
       "<div>\n",
       "<style scoped>\n",
       "    .dataframe tbody tr th:only-of-type {\n",
       "        vertical-align: middle;\n",
       "    }\n",
       "\n",
       "    .dataframe tbody tr th {\n",
       "        vertical-align: top;\n",
       "    }\n",
       "\n",
       "    .dataframe thead th {\n",
       "        text-align: right;\n",
       "    }\n",
       "</style>\n",
       "<table border=\"1\" class=\"dataframe\">\n",
       "  <thead>\n",
       "    <tr style=\"text-align: right;\">\n",
       "      <th></th>\n",
       "      <th>Student ID</th>\n",
       "      <th>Name</th>\n",
       "      <th>Location</th>\n",
       "      <th>Start</th>\n",
       "      <th>End</th>\n",
       "    </tr>\n",
       "  </thead>\n",
       "  <tbody>\n",
       "    <tr>\n",
       "      <th>0</th>\n",
       "      <td>2495155L</td>\n",
       "      <td>Mohamed Lloyd</td>\n",
       "      <td>Kelvingrove Park</td>\n",
       "      <td>0338</td>\n",
       "      <td>0716</td>\n",
       "    </tr>\n",
       "    <tr>\n",
       "      <th>1</th>\n",
       "      <td>2470551P</td>\n",
       "      <td>Melanie Patterson</td>\n",
       "      <td>Kelvingrove Park</td>\n",
       "      <td>0301</td>\n",
       "      <td>0533</td>\n",
       "    </tr>\n",
       "    <tr>\n",
       "      <th>2</th>\n",
       "      <td>2546112P</td>\n",
       "      <td>Eric Parkin</td>\n",
       "      <td>Kelvingrove Park</td>\n",
       "      <td>0720</td>\n",
       "      <td>0843</td>\n",
       "    </tr>\n",
       "    <tr>\n",
       "      <th>3</th>\n",
       "      <td>2453876J</td>\n",
       "      <td>Scott Johnston</td>\n",
       "      <td>Kelvingrove Park</td>\n",
       "      <td>0755</td>\n",
       "      <td>0737</td>\n",
       "    </tr>\n",
       "    <tr>\n",
       "      <th>4</th>\n",
       "      <td>2549181S</td>\n",
       "      <td>Margaret Saunders</td>\n",
       "      <td>Queen Margaret Union</td>\n",
       "      <td>0843</td>\n",
       "      <td>1052</td>\n",
       "    </tr>\n",
       "    <tr>\n",
       "      <th>...</th>\n",
       "      <td>...</td>\n",
       "      <td>...</td>\n",
       "      <td>...</td>\n",
       "      <td>...</td>\n",
       "      <td>...</td>\n",
       "    </tr>\n",
       "    <tr>\n",
       "      <th>657</th>\n",
       "      <td>2477517J</td>\n",
       "      <td>Gerald Jones</td>\n",
       "      <td>Library</td>\n",
       "      <td>2114</td>\n",
       "      <td>0017</td>\n",
       "    </tr>\n",
       "    <tr>\n",
       "      <th>658</th>\n",
       "      <td>2691086J</td>\n",
       "      <td>Callum Jenkins</td>\n",
       "      <td>The Hive</td>\n",
       "      <td>2328</td>\n",
       "      <td>0113</td>\n",
       "    </tr>\n",
       "    <tr>\n",
       "      <th>659</th>\n",
       "      <td>2533061J</td>\n",
       "      <td>Antony James</td>\n",
       "      <td>Kelvingrove Park</td>\n",
       "      <td>2353</td>\n",
       "      <td>0340</td>\n",
       "    </tr>\n",
       "    <tr>\n",
       "      <th>660</th>\n",
       "      <td>2858027D</td>\n",
       "      <td>Lynda Davis</td>\n",
       "      <td>Library</td>\n",
       "      <td>2351</td>\n",
       "      <td>0115</td>\n",
       "    </tr>\n",
       "    <tr>\n",
       "      <th>661</th>\n",
       "      <td>2795502Y</td>\n",
       "      <td>Shaun Yates</td>\n",
       "      <td>Kelvingrove Park</td>\n",
       "      <td>2328</td>\n",
       "      <td>0324</td>\n",
       "    </tr>\n",
       "  </tbody>\n",
       "</table>\n",
       "<p>662 rows × 5 columns</p>\n",
       "</div>"
      ],
      "text/plain": [
       "    Student ID               Name              Location  Start   End\n",
       "0     2495155L      Mohamed Lloyd      Kelvingrove Park   0338  0716\n",
       "1     2470551P  Melanie Patterson      Kelvingrove Park   0301  0533\n",
       "2     2546112P        Eric Parkin      Kelvingrove Park   0720  0843\n",
       "3     2453876J     Scott Johnston      Kelvingrove Park   0755  0737\n",
       "4     2549181S  Margaret Saunders  Queen Margaret Union   0843  1052\n",
       "..         ...                ...                   ...    ...   ...\n",
       "657   2477517J       Gerald Jones               Library   2114  0017\n",
       "658   2691086J     Callum Jenkins              The Hive   2328  0113\n",
       "659   2533061J       Antony James      Kelvingrove Park   2353  0340\n",
       "660   2858027D        Lynda Davis               Library   2351  0115\n",
       "661   2795502Y        Shaun Yates      Kelvingrove Park   2328  0324\n",
       "\n",
       "[662 rows x 5 columns]"
      ]
     },
     "execution_count": 11,
     "metadata": {},
     "output_type": "execute_result"
    }
   ],
   "source": [
    "newdataframe"
   ]
  },
  {
   "cell_type": "code",
   "execution_count": 12,
   "id": "5f577692",
   "metadata": {},
   "outputs": [],
   "source": [
    "from datetime import datetime, time, date \n",
    "def convert_to_datetime(time):\n",
    "    time = time.strip()\n",
    "    time_hour = int(time[0:2])\n",
    "    time_minutes = int(time[2:4])\n",
    "    return datetime(2020, 10, 10, time_hour, time_minutes)"
   ]
  },
  {
   "cell_type": "code",
   "execution_count": 13,
   "id": "682eff3a",
   "metadata": {},
   "outputs": [],
   "source": [
    "newdataframe['Start'] = newdataframe['Start'].apply(convert_to_datetime)\n",
    "newdataframe['End'] = newdataframe['End'].apply(convert_to_datetime)\n",
    "newdataframe = newdataframe.sort_values(by=['Start'])"
   ]
  },
  {
   "cell_type": "code",
   "execution_count": 14,
   "id": "a5e71aa3",
   "metadata": {},
   "outputs": [
    {
     "data": {
      "text/plain": [
       "['Main Building',\n",
       " 'Kelvingrove Park',\n",
       " 'Queen Margaret Union',\n",
       " 'Boyd Orr Building',\n",
       " 'Glasgow University Union']"
      ]
     },
     "execution_count": 14,
     "metadata": {},
     "output_type": "execute_result"
    }
   ],
   "source": [
    "amy = list((newdataframe[newdataframe['Name']== 'Angela Jones']).Location)\n",
    "amy"
   ]
  },
  {
   "cell_type": "code",
   "execution_count": 15,
   "id": "974f803d",
   "metadata": {},
   "outputs": [],
   "source": [
    "susnames = ['Beth Jones', 'Oscar Brown', 'Shaun Yates', 'Abdul Murphy']"
   ]
  },
  {
   "cell_type": "code",
   "execution_count": 16,
   "id": "f6dd07c5",
   "metadata": {},
   "outputs": [],
   "source": [
    "#write a function that checks to make sure they are not in the same place at the same time "
   ]
  },
  {
   "cell_type": "code",
   "execution_count": 17,
   "id": "7246ca21",
   "metadata": {},
   "outputs": [],
   "source": [
    "names = list(newdataframe.Name.unique())"
   ]
  },
  {
   "cell_type": "code",
   "execution_count": 18,
   "id": "79425d50",
   "metadata": {},
   "outputs": [],
   "source": [
    "abdul = newdataframe[newdataframe['Name']== 'Abdul Murphy']"
   ]
  },
  {
   "cell_type": "code",
   "execution_count": 19,
   "id": "0351abf2",
   "metadata": {
    "scrolled": false
   },
   "outputs": [
    {
     "data": {
      "text/html": [
       "<div>\n",
       "<style scoped>\n",
       "    .dataframe tbody tr th:only-of-type {\n",
       "        vertical-align: middle;\n",
       "    }\n",
       "\n",
       "    .dataframe tbody tr th {\n",
       "        vertical-align: top;\n",
       "    }\n",
       "\n",
       "    .dataframe thead th {\n",
       "        text-align: right;\n",
       "    }\n",
       "</style>\n",
       "<table border=\"1\" class=\"dataframe\">\n",
       "  <thead>\n",
       "    <tr style=\"text-align: right;\">\n",
       "      <th></th>\n",
       "      <th>Student ID</th>\n",
       "      <th>Name</th>\n",
       "      <th>Location</th>\n",
       "      <th>Start</th>\n",
       "      <th>End</th>\n",
       "    </tr>\n",
       "  </thead>\n",
       "  <tbody>\n",
       "    <tr>\n",
       "      <th>36</th>\n",
       "      <td>2786843M</td>\n",
       "      <td>Abdul Murphy</td>\n",
       "      <td>St Andrews Building</td>\n",
       "      <td>2020-10-10 09:00:00</td>\n",
       "      <td>2020-10-10 12:00:00</td>\n",
       "    </tr>\n",
       "    <tr>\n",
       "      <th>289</th>\n",
       "      <td>2786843M</td>\n",
       "      <td>Abdul Murphy</td>\n",
       "      <td>Sir Alwyn Williams Building</td>\n",
       "      <td>2020-10-10 12:08:00</td>\n",
       "      <td>2020-10-10 13:02:00</td>\n",
       "    </tr>\n",
       "    <tr>\n",
       "      <th>312</th>\n",
       "      <td>2786843M</td>\n",
       "      <td>Abdul Murphy</td>\n",
       "      <td>Queen Maragret Building</td>\n",
       "      <td>2020-10-10 13:53:00</td>\n",
       "      <td>2020-10-10 15:27:00</td>\n",
       "    </tr>\n",
       "    <tr>\n",
       "      <th>538</th>\n",
       "      <td>2786843M</td>\n",
       "      <td>Abdul Murphy</td>\n",
       "      <td>Library</td>\n",
       "      <td>2020-10-10 18:43:00</td>\n",
       "      <td>2020-10-10 19:33:00</td>\n",
       "    </tr>\n",
       "    <tr>\n",
       "      <th>609</th>\n",
       "      <td>2786843M</td>\n",
       "      <td>Abdul Murphy</td>\n",
       "      <td>Boyd Orr Building</td>\n",
       "      <td>2020-10-10 22:08:00</td>\n",
       "      <td>2020-10-10 22:19:00</td>\n",
       "    </tr>\n",
       "  </tbody>\n",
       "</table>\n",
       "</div>"
      ],
      "text/plain": [
       "    Student ID          Name                     Location               Start  \\\n",
       "36    2786843M  Abdul Murphy          St Andrews Building 2020-10-10 09:00:00   \n",
       "289   2786843M  Abdul Murphy  Sir Alwyn Williams Building 2020-10-10 12:08:00   \n",
       "312   2786843M  Abdul Murphy      Queen Maragret Building 2020-10-10 13:53:00   \n",
       "538   2786843M  Abdul Murphy                      Library 2020-10-10 18:43:00   \n",
       "609   2786843M  Abdul Murphy            Boyd Orr Building 2020-10-10 22:08:00   \n",
       "\n",
       "                    End  \n",
       "36  2020-10-10 12:00:00  \n",
       "289 2020-10-10 13:02:00  \n",
       "312 2020-10-10 15:27:00  \n",
       "538 2020-10-10 19:33:00  \n",
       "609 2020-10-10 22:19:00  "
      ]
     },
     "execution_count": 19,
     "metadata": {},
     "output_type": "execute_result"
    }
   ],
   "source": [
    "abdul"
   ]
  },
  {
   "cell_type": "code",
   "execution_count": 20,
   "id": "bc14bb45",
   "metadata": {},
   "outputs": [
    {
     "data": {
      "text/plain": [
       "[Timestamp('2020-10-10 09:00:00'),\n",
       " Timestamp('2020-10-10 12:08:00'),\n",
       " Timestamp('2020-10-10 13:53:00'),\n",
       " Timestamp('2020-10-10 18:43:00'),\n",
       " Timestamp('2020-10-10 22:08:00')]"
      ]
     },
     "execution_count": 20,
     "metadata": {},
     "output_type": "execute_result"
    }
   ],
   "source": [
    "list((newdataframe[newdataframe['Name']== 'Abdul Murphy']).Start)"
   ]
  },
  {
   "cell_type": "code",
   "execution_count": 25,
   "id": "c1eb5a4a",
   "metadata": {},
   "outputs": [],
   "source": [
    "dataframeforname = newdataframe[newdataframe['Name']== 'Oscar Brown']\n",
    "    \n"
   ]
  },
  {
   "cell_type": "code",
   "execution_count": 29,
   "id": "92eb3881",
   "metadata": {},
   "outputs": [
    {
     "data": {
      "text/plain": [
       "[False, True, True, True]"
      ]
     },
     "execution_count": 29,
     "metadata": {},
     "output_type": "execute_result"
    }
   ],
   "source": [
    "list(dataframeforname['End'].shift() > dataframeforname['Start'])"
   ]
  },
  {
   "cell_type": "code",
   "execution_count": 30,
   "id": "b3c99c15",
   "metadata": {},
   "outputs": [],
   "source": [
    "def checkforoverlaps(name, dataframe):\n",
    "    overlaps = 0\n",
    "    dataframeforname = dataframe[newdataframe['Name']== name]\n",
    "    numoverlaps = list(dataframeforname['End'].shift() > dataframeforname['Start'])\n",
    "    for value in numoverlaps:\n",
    "        if value == True:\n",
    "            overlaps +=1 \n",
    "    return overlaps\n",
    "    \n",
    "    "
   ]
  },
  {
   "cell_type": "code",
   "execution_count": 36,
   "id": "969f1f26",
   "metadata": {},
   "outputs": [],
   "source": [
    "#can use check overlap for each of the person"
   ]
  },
  {
   "cell_type": "code",
   "execution_count": 31,
   "id": "be6aaf16",
   "metadata": {},
   "outputs": [
    {
     "data": {
      "text/plain": [
       "3"
      ]
     },
     "execution_count": 31,
     "metadata": {},
     "output_type": "execute_result"
    }
   ],
   "source": [
    "checkforoverlaps('Oscar Brown', newdataframe)"
   ]
  },
  {
   "cell_type": "markdown",
   "id": "7a8f37c4",
   "metadata": {},
   "source": [
    "# checking entery and exit for a single room"
   ]
  },
  {
   "cell_type": "code",
   "execution_count": 32,
   "id": "efa42344",
   "metadata": {},
   "outputs": [],
   "source": [
    "sta = newdataframe[newdataframe['Location']== 'St Andrews Building']"
   ]
  },
  {
   "cell_type": "code",
   "execution_count": 33,
   "id": "58016843",
   "metadata": {},
   "outputs": [
    {
     "data": {
      "text/html": [
       "<div>\n",
       "<style scoped>\n",
       "    .dataframe tbody tr th:only-of-type {\n",
       "        vertical-align: middle;\n",
       "    }\n",
       "\n",
       "    .dataframe tbody tr th {\n",
       "        vertical-align: top;\n",
       "    }\n",
       "\n",
       "    .dataframe thead th {\n",
       "        text-align: right;\n",
       "    }\n",
       "</style>\n",
       "<table border=\"1\" class=\"dataframe\">\n",
       "  <thead>\n",
       "    <tr style=\"text-align: right;\">\n",
       "      <th></th>\n",
       "      <th>Student ID</th>\n",
       "      <th>Name</th>\n",
       "      <th>Location</th>\n",
       "      <th>Start</th>\n",
       "      <th>End</th>\n",
       "    </tr>\n",
       "  </thead>\n",
       "  <tbody>\n",
       "    <tr>\n",
       "      <th>50</th>\n",
       "      <td>2519606S</td>\n",
       "      <td>Laura Skinner</td>\n",
       "      <td>St Andrews Building</td>\n",
       "      <td>2020-10-10 09:00:00</td>\n",
       "      <td>2020-10-10 12:00:00</td>\n",
       "    </tr>\n",
       "    <tr>\n",
       "      <th>49</th>\n",
       "      <td>2893827J</td>\n",
       "      <td>Elliott Jones</td>\n",
       "      <td>St Andrews Building</td>\n",
       "      <td>2020-10-10 09:00:00</td>\n",
       "      <td>2020-10-10 12:00:00</td>\n",
       "    </tr>\n",
       "    <tr>\n",
       "      <th>52</th>\n",
       "      <td>2541160O</td>\n",
       "      <td>Gerard Oliver</td>\n",
       "      <td>St Andrews Building</td>\n",
       "      <td>2020-10-10 09:00:00</td>\n",
       "      <td>2020-10-10 12:00:00</td>\n",
       "    </tr>\n",
       "    <tr>\n",
       "      <th>70</th>\n",
       "      <td>2761310W</td>\n",
       "      <td>Keith Wood</td>\n",
       "      <td>St Andrews Building</td>\n",
       "      <td>2020-10-10 09:00:00</td>\n",
       "      <td>2020-10-10 12:00:00</td>\n",
       "    </tr>\n",
       "    <tr>\n",
       "      <th>60</th>\n",
       "      <td>2445601S</td>\n",
       "      <td>Keith Saunders</td>\n",
       "      <td>St Andrews Building</td>\n",
       "      <td>2020-10-10 09:00:00</td>\n",
       "      <td>2020-10-10 12:00:00</td>\n",
       "    </tr>\n",
       "    <tr>\n",
       "      <th>18</th>\n",
       "      <td>2611516B</td>\n",
       "      <td>Carolyn Bond</td>\n",
       "      <td>St Andrews Building</td>\n",
       "      <td>2020-10-10 09:00:00</td>\n",
       "      <td>2020-10-10 12:00:00</td>\n",
       "    </tr>\n",
       "    <tr>\n",
       "      <th>21</th>\n",
       "      <td>2595487S</td>\n",
       "      <td>Martin Smith</td>\n",
       "      <td>St Andrews Building</td>\n",
       "      <td>2020-10-10 09:00:00</td>\n",
       "      <td>2020-10-10 12:00:00</td>\n",
       "    </tr>\n",
       "    <tr>\n",
       "      <th>30</th>\n",
       "      <td>2521060T</td>\n",
       "      <td>Jacqueline Thomas</td>\n",
       "      <td>St Andrews Building</td>\n",
       "      <td>2020-10-10 09:00:00</td>\n",
       "      <td>2020-10-10 12:00:00</td>\n",
       "    </tr>\n",
       "    <tr>\n",
       "      <th>31</th>\n",
       "      <td>2453097L</td>\n",
       "      <td>Joanna Lynch</td>\n",
       "      <td>St Andrews Building</td>\n",
       "      <td>2020-10-10 09:00:00</td>\n",
       "      <td>2020-10-10 12:00:00</td>\n",
       "    </tr>\n",
       "    <tr>\n",
       "      <th>36</th>\n",
       "      <td>2786843M</td>\n",
       "      <td>Abdul Murphy</td>\n",
       "      <td>St Andrews Building</td>\n",
       "      <td>2020-10-10 09:00:00</td>\n",
       "      <td>2020-10-10 12:00:00</td>\n",
       "    </tr>\n",
       "    <tr>\n",
       "      <th>38</th>\n",
       "      <td>2884930W</td>\n",
       "      <td>Ross Wood</td>\n",
       "      <td>St Andrews Building</td>\n",
       "      <td>2020-10-10 09:00:00</td>\n",
       "      <td>2020-10-10 12:00:00</td>\n",
       "    </tr>\n",
       "    <tr>\n",
       "      <th>33</th>\n",
       "      <td>2739531T</td>\n",
       "      <td>Hollie Taylor</td>\n",
       "      <td>St Andrews Building</td>\n",
       "      <td>2020-10-10 09:00:00</td>\n",
       "      <td>2020-10-10 12:00:00</td>\n",
       "    </tr>\n",
       "    <tr>\n",
       "      <th>158</th>\n",
       "      <td>2522391J</td>\n",
       "      <td>Lee James</td>\n",
       "      <td>St Andrews Building</td>\n",
       "      <td>2020-10-10 10:42:00</td>\n",
       "      <td>2020-10-10 11:29:00</td>\n",
       "    </tr>\n",
       "    <tr>\n",
       "      <th>99</th>\n",
       "      <td>2665521F</td>\n",
       "      <td>Suzanne Fox</td>\n",
       "      <td>St Andrews Building</td>\n",
       "      <td>2020-10-10 10:49:00</td>\n",
       "      <td>2020-10-10 13:45:00</td>\n",
       "    </tr>\n",
       "    <tr>\n",
       "      <th>222</th>\n",
       "      <td>2750326B</td>\n",
       "      <td>Mark Begum</td>\n",
       "      <td>St Andrews Building</td>\n",
       "      <td>2020-10-10 11:14:00</td>\n",
       "      <td>2020-10-10 15:17:00</td>\n",
       "    </tr>\n",
       "    <tr>\n",
       "      <th>203</th>\n",
       "      <td>2678631W</td>\n",
       "      <td>Sandra Wilson</td>\n",
       "      <td>St Andrews Building</td>\n",
       "      <td>2020-10-10 11:19:00</td>\n",
       "      <td>2020-10-10 12:45:00</td>\n",
       "    </tr>\n",
       "    <tr>\n",
       "      <th>216</th>\n",
       "      <td>2447060H</td>\n",
       "      <td>Sarah Harvey</td>\n",
       "      <td>St Andrews Building</td>\n",
       "      <td>2020-10-10 11:27:00</td>\n",
       "      <td>2020-10-10 12:49:00</td>\n",
       "    </tr>\n",
       "    <tr>\n",
       "      <th>204</th>\n",
       "      <td>2522843B</td>\n",
       "      <td>Olivia Baker</td>\n",
       "      <td>St Andrews Building</td>\n",
       "      <td>2020-10-10 11:42:00</td>\n",
       "      <td>2020-10-10 14:31:00</td>\n",
       "    </tr>\n",
       "    <tr>\n",
       "      <th>219</th>\n",
       "      <td>2798501F</td>\n",
       "      <td>Oliver Ford</td>\n",
       "      <td>St Andrews Building</td>\n",
       "      <td>2020-10-10 11:57:00</td>\n",
       "      <td>2020-10-10 13:35:00</td>\n",
       "    </tr>\n",
       "    <tr>\n",
       "      <th>255</th>\n",
       "      <td>2446001M</td>\n",
       "      <td>Vincent Miah</td>\n",
       "      <td>St Andrews Building</td>\n",
       "      <td>2020-10-10 12:04:00</td>\n",
       "      <td>2020-10-10 14:04:00</td>\n",
       "    </tr>\n",
       "    <tr>\n",
       "      <th>282</th>\n",
       "      <td>2818729W</td>\n",
       "      <td>Jack Watson</td>\n",
       "      <td>St Andrews Building</td>\n",
       "      <td>2020-10-10 12:28:00</td>\n",
       "      <td>2020-10-10 14:11:00</td>\n",
       "    </tr>\n",
       "    <tr>\n",
       "      <th>287</th>\n",
       "      <td>2774753B</td>\n",
       "      <td>Jill Banks</td>\n",
       "      <td>St Andrews Building</td>\n",
       "      <td>2020-10-10 12:36:00</td>\n",
       "      <td>2020-10-10 13:28:00</td>\n",
       "    </tr>\n",
       "    <tr>\n",
       "      <th>259</th>\n",
       "      <td>2548702L</td>\n",
       "      <td>Bradley Lewis</td>\n",
       "      <td>St Andrews Building</td>\n",
       "      <td>2020-10-10 12:47:00</td>\n",
       "      <td>2020-10-10 13:24:00</td>\n",
       "    </tr>\n",
       "    <tr>\n",
       "      <th>254</th>\n",
       "      <td>2739531T</td>\n",
       "      <td>Hollie Taylor</td>\n",
       "      <td>St Andrews Building</td>\n",
       "      <td>2020-10-10 12:48:00</td>\n",
       "      <td>2020-10-10 14:34:00</td>\n",
       "    </tr>\n",
       "    <tr>\n",
       "      <th>248</th>\n",
       "      <td>2448977C</td>\n",
       "      <td>Gareth Clayton</td>\n",
       "      <td>St Andrews Building</td>\n",
       "      <td>2020-10-10 12:53:00</td>\n",
       "      <td>2020-10-10 15:20:00</td>\n",
       "    </tr>\n",
       "    <tr>\n",
       "      <th>321</th>\n",
       "      <td>2843155S</td>\n",
       "      <td>Tony Stokes</td>\n",
       "      <td>St Andrews Building</td>\n",
       "      <td>2020-10-10 13:09:00</td>\n",
       "      <td>2020-10-10 15:25:00</td>\n",
       "    </tr>\n",
       "    <tr>\n",
       "      <th>319</th>\n",
       "      <td>2798507C</td>\n",
       "      <td>Valerie Cross</td>\n",
       "      <td>St Andrews Building</td>\n",
       "      <td>2020-10-10 13:40:00</td>\n",
       "      <td>2020-10-10 16:14:00</td>\n",
       "    </tr>\n",
       "    <tr>\n",
       "      <th>298</th>\n",
       "      <td>2470543S</td>\n",
       "      <td>Barbara Singh</td>\n",
       "      <td>St Andrews Building</td>\n",
       "      <td>2020-10-10 13:41:00</td>\n",
       "      <td>2020-10-10 14:25:00</td>\n",
       "    </tr>\n",
       "    <tr>\n",
       "      <th>340</th>\n",
       "      <td>2831841M</td>\n",
       "      <td>Charlotte Matthews</td>\n",
       "      <td>St Andrews Building</td>\n",
       "      <td>2020-10-10 13:42:00</td>\n",
       "      <td>2020-10-10 16:21:00</td>\n",
       "    </tr>\n",
       "    <tr>\n",
       "      <th>344</th>\n",
       "      <td>2774753B</td>\n",
       "      <td>Jill Banks</td>\n",
       "      <td>St Andrews Building</td>\n",
       "      <td>2020-10-10 13:50:00</td>\n",
       "      <td>2020-10-10 16:49:00</td>\n",
       "    </tr>\n",
       "    <tr>\n",
       "      <th>379</th>\n",
       "      <td>2438411P</td>\n",
       "      <td>Kerry Pearce</td>\n",
       "      <td>St Andrews Building</td>\n",
       "      <td>2020-10-10 14:25:00</td>\n",
       "      <td>2020-10-10 17:00:00</td>\n",
       "    </tr>\n",
       "    <tr>\n",
       "      <th>363</th>\n",
       "      <td>2572412H</td>\n",
       "      <td>Eleanor Harvey</td>\n",
       "      <td>St Andrews Building</td>\n",
       "      <td>2020-10-10 14:42:00</td>\n",
       "      <td>2020-10-10 15:23:00</td>\n",
       "    </tr>\n",
       "    <tr>\n",
       "      <th>391</th>\n",
       "      <td>2813225b</td>\n",
       "      <td>Stuart Wands</td>\n",
       "      <td>St Andrews Building</td>\n",
       "      <td>2020-10-10 14:52:00</td>\n",
       "      <td>2020-10-10 16:16:00</td>\n",
       "    </tr>\n",
       "    <tr>\n",
       "      <th>429</th>\n",
       "      <td>2690785M</td>\n",
       "      <td>Eleanor Marsh</td>\n",
       "      <td>St Andrews Building</td>\n",
       "      <td>2020-10-10 15:23:00</td>\n",
       "      <td>2020-10-10 17:00:00</td>\n",
       "    </tr>\n",
       "    <tr>\n",
       "      <th>412</th>\n",
       "      <td>2843155S</td>\n",
       "      <td>Tony Stokes</td>\n",
       "      <td>St Andrews Building</td>\n",
       "      <td>2020-10-10 15:28:00</td>\n",
       "      <td>2020-10-10 17:00:00</td>\n",
       "    </tr>\n",
       "    <tr>\n",
       "      <th>428</th>\n",
       "      <td>2723085H</td>\n",
       "      <td>Norman Hart</td>\n",
       "      <td>St Andrews Building</td>\n",
       "      <td>2020-10-10 15:41:00</td>\n",
       "      <td>2020-10-10 16:17:00</td>\n",
       "    </tr>\n",
       "    <tr>\n",
       "      <th>399</th>\n",
       "      <td>2714499B</td>\n",
       "      <td>Anna Butler</td>\n",
       "      <td>St Andrews Building</td>\n",
       "      <td>2020-10-10 15:58:00</td>\n",
       "      <td>2020-10-10 16:38:00</td>\n",
       "    </tr>\n",
       "    <tr>\n",
       "      <th>452</th>\n",
       "      <td>2544001M</td>\n",
       "      <td>Fiona Miah</td>\n",
       "      <td>St Andrews Building</td>\n",
       "      <td>2020-10-10 16:12:00</td>\n",
       "      <td>2020-10-10 17:00:00</td>\n",
       "    </tr>\n",
       "    <tr>\n",
       "      <th>446</th>\n",
       "      <td>2774868P</td>\n",
       "      <td>Alice Patterson</td>\n",
       "      <td>St Andrews Building</td>\n",
       "      <td>2020-10-10 16:25:00</td>\n",
       "      <td>2020-10-10 17:00:00</td>\n",
       "    </tr>\n",
       "    <tr>\n",
       "      <th>449</th>\n",
       "      <td>2470543S</td>\n",
       "      <td>Barbara Singh</td>\n",
       "      <td>St Andrews Building</td>\n",
       "      <td>2020-10-10 16:31:00</td>\n",
       "      <td>2020-10-10 17:00:00</td>\n",
       "    </tr>\n",
       "    <tr>\n",
       "      <th>457</th>\n",
       "      <td>2730014J</td>\n",
       "      <td>Rosemary Jones</td>\n",
       "      <td>St Andrews Building</td>\n",
       "      <td>2020-10-10 16:31:00</td>\n",
       "      <td>2020-10-10 17:00:00</td>\n",
       "    </tr>\n",
       "    <tr>\n",
       "      <th>450</th>\n",
       "      <td>2572412H</td>\n",
       "      <td>Eleanor Harvey</td>\n",
       "      <td>St Andrews Building</td>\n",
       "      <td>2020-10-10 16:52:00</td>\n",
       "      <td>2020-10-10 17:00:00</td>\n",
       "    </tr>\n",
       "  </tbody>\n",
       "</table>\n",
       "</div>"
      ],
      "text/plain": [
       "    Student ID                Name             Location               Start  \\\n",
       "50    2519606S       Laura Skinner  St Andrews Building 2020-10-10 09:00:00   \n",
       "49    2893827J       Elliott Jones  St Andrews Building 2020-10-10 09:00:00   \n",
       "52    2541160O       Gerard Oliver  St Andrews Building 2020-10-10 09:00:00   \n",
       "70    2761310W          Keith Wood  St Andrews Building 2020-10-10 09:00:00   \n",
       "60    2445601S      Keith Saunders  St Andrews Building 2020-10-10 09:00:00   \n",
       "18    2611516B        Carolyn Bond  St Andrews Building 2020-10-10 09:00:00   \n",
       "21    2595487S        Martin Smith  St Andrews Building 2020-10-10 09:00:00   \n",
       "30    2521060T   Jacqueline Thomas  St Andrews Building 2020-10-10 09:00:00   \n",
       "31    2453097L        Joanna Lynch  St Andrews Building 2020-10-10 09:00:00   \n",
       "36    2786843M        Abdul Murphy  St Andrews Building 2020-10-10 09:00:00   \n",
       "38    2884930W           Ross Wood  St Andrews Building 2020-10-10 09:00:00   \n",
       "33    2739531T       Hollie Taylor  St Andrews Building 2020-10-10 09:00:00   \n",
       "158   2522391J           Lee James  St Andrews Building 2020-10-10 10:42:00   \n",
       "99    2665521F         Suzanne Fox  St Andrews Building 2020-10-10 10:49:00   \n",
       "222   2750326B          Mark Begum  St Andrews Building 2020-10-10 11:14:00   \n",
       "203   2678631W       Sandra Wilson  St Andrews Building 2020-10-10 11:19:00   \n",
       "216   2447060H        Sarah Harvey  St Andrews Building 2020-10-10 11:27:00   \n",
       "204   2522843B        Olivia Baker  St Andrews Building 2020-10-10 11:42:00   \n",
       "219   2798501F         Oliver Ford  St Andrews Building 2020-10-10 11:57:00   \n",
       "255   2446001M        Vincent Miah  St Andrews Building 2020-10-10 12:04:00   \n",
       "282   2818729W         Jack Watson  St Andrews Building 2020-10-10 12:28:00   \n",
       "287   2774753B          Jill Banks  St Andrews Building 2020-10-10 12:36:00   \n",
       "259   2548702L       Bradley Lewis  St Andrews Building 2020-10-10 12:47:00   \n",
       "254   2739531T       Hollie Taylor  St Andrews Building 2020-10-10 12:48:00   \n",
       "248   2448977C      Gareth Clayton  St Andrews Building 2020-10-10 12:53:00   \n",
       "321   2843155S         Tony Stokes  St Andrews Building 2020-10-10 13:09:00   \n",
       "319   2798507C       Valerie Cross  St Andrews Building 2020-10-10 13:40:00   \n",
       "298   2470543S       Barbara Singh  St Andrews Building 2020-10-10 13:41:00   \n",
       "340   2831841M  Charlotte Matthews  St Andrews Building 2020-10-10 13:42:00   \n",
       "344   2774753B          Jill Banks  St Andrews Building 2020-10-10 13:50:00   \n",
       "379   2438411P        Kerry Pearce  St Andrews Building 2020-10-10 14:25:00   \n",
       "363   2572412H      Eleanor Harvey  St Andrews Building 2020-10-10 14:42:00   \n",
       "391   2813225b        Stuart Wands  St Andrews Building 2020-10-10 14:52:00   \n",
       "429   2690785M       Eleanor Marsh  St Andrews Building 2020-10-10 15:23:00   \n",
       "412   2843155S         Tony Stokes  St Andrews Building 2020-10-10 15:28:00   \n",
       "428   2723085H         Norman Hart  St Andrews Building 2020-10-10 15:41:00   \n",
       "399   2714499B         Anna Butler  St Andrews Building 2020-10-10 15:58:00   \n",
       "452   2544001M          Fiona Miah  St Andrews Building 2020-10-10 16:12:00   \n",
       "446   2774868P     Alice Patterson  St Andrews Building 2020-10-10 16:25:00   \n",
       "449   2470543S       Barbara Singh  St Andrews Building 2020-10-10 16:31:00   \n",
       "457   2730014J      Rosemary Jones  St Andrews Building 2020-10-10 16:31:00   \n",
       "450   2572412H      Eleanor Harvey  St Andrews Building 2020-10-10 16:52:00   \n",
       "\n",
       "                    End  \n",
       "50  2020-10-10 12:00:00  \n",
       "49  2020-10-10 12:00:00  \n",
       "52  2020-10-10 12:00:00  \n",
       "70  2020-10-10 12:00:00  \n",
       "60  2020-10-10 12:00:00  \n",
       "18  2020-10-10 12:00:00  \n",
       "21  2020-10-10 12:00:00  \n",
       "30  2020-10-10 12:00:00  \n",
       "31  2020-10-10 12:00:00  \n",
       "36  2020-10-10 12:00:00  \n",
       "38  2020-10-10 12:00:00  \n",
       "33  2020-10-10 12:00:00  \n",
       "158 2020-10-10 11:29:00  \n",
       "99  2020-10-10 13:45:00  \n",
       "222 2020-10-10 15:17:00  \n",
       "203 2020-10-10 12:45:00  \n",
       "216 2020-10-10 12:49:00  \n",
       "204 2020-10-10 14:31:00  \n",
       "219 2020-10-10 13:35:00  \n",
       "255 2020-10-10 14:04:00  \n",
       "282 2020-10-10 14:11:00  \n",
       "287 2020-10-10 13:28:00  \n",
       "259 2020-10-10 13:24:00  \n",
       "254 2020-10-10 14:34:00  \n",
       "248 2020-10-10 15:20:00  \n",
       "321 2020-10-10 15:25:00  \n",
       "319 2020-10-10 16:14:00  \n",
       "298 2020-10-10 14:25:00  \n",
       "340 2020-10-10 16:21:00  \n",
       "344 2020-10-10 16:49:00  \n",
       "379 2020-10-10 17:00:00  \n",
       "363 2020-10-10 15:23:00  \n",
       "391 2020-10-10 16:16:00  \n",
       "429 2020-10-10 17:00:00  \n",
       "412 2020-10-10 17:00:00  \n",
       "428 2020-10-10 16:17:00  \n",
       "399 2020-10-10 16:38:00  \n",
       "452 2020-10-10 17:00:00  \n",
       "446 2020-10-10 17:00:00  \n",
       "449 2020-10-10 17:00:00  \n",
       "457 2020-10-10 17:00:00  \n",
       "450 2020-10-10 17:00:00  "
      ]
     },
     "execution_count": 33,
     "metadata": {},
     "output_type": "execute_result"
    }
   ],
   "source": [
    "sta"
   ]
  },
  {
   "cell_type": "code",
   "execution_count": 34,
   "id": "b7dc876b",
   "metadata": {},
   "outputs": [],
   "source": [
    "#find data stucture for room "
   ]
  },
  {
   "cell_type": "code",
   "execution_count": 47,
   "id": "92d703ef",
   "metadata": {},
   "outputs": [
    {
     "data": {
      "text/plain": [
       "<matplotlib.collections.PathCollection at 0x15276080790>"
      ]
     },
     "execution_count": 47,
     "metadata": {},
     "output_type": "execute_result"
    },
    {
     "data": {
      "image/png": "[encoded data removed]",
      "text/plain": [
       "<Figure size 432x288 with 1 Axes>"
      ]
     },
     "metadata": {
      "needs_background": "light"
     },
     "output_type": "display_data"
    }
   ],
   "source": [
    "plt.scatter(sta['Name'], sta['Start'])"
   ]
  },
  {
   "cell_type": "code",
   "execution_count": 58,
   "id": "242cf241",
   "metadata": {},
   "outputs": [
    {
     "data": {
      "image/png": "[encoded data removed]",
      "text/plain": [
       "<Figure size 1332x756 with 1 Axes>"
      ]
     },
     "metadata": {
      "needs_background": "light"
     },
     "output_type": "display_data"
    }
   ],
   "source": [
    "fig  = plt.figure()\n",
    "fig.set_size_inches(18.5, 10.5)\n",
    "\n",
    "\n",
    "\n",
    "    \n",
    "ax1 = fig.add_subplot(111)\n",
    "ax1.scatter(sta['Name'], sta['Start'], s=10, c='b', marker=\"s\", label='Start Time')\n",
    "ax1.scatter(sta['Name'],sta['End'], s=10, c='r', marker=\"o\", label='End Time')\n",
    "ax1.vlines(sta['Name'], sta['Start'], sta['End'])\n",
    "plt.xticks(rotation = 'vertical')\n",
    "plt.legend(loc='upper left')\n",
    "plt.title('St Andrews')\n",
    "plt.show()"
   ]
  },
  {
   "cell_type": "code",
   "execution_count": 66,
   "id": "781dd6be",
   "metadata": {},
   "outputs": [],
   "source": [
    "def graphoverlaps(location):\n",
    "    place = newdataframe[newdataframe['Location']== location]\n",
    "    fig  = plt.figure()\n",
    "    fig.set_size_inches(18.5, 10.5)\n",
    "    ax1 = fig.add_subplot(111)\n",
    "    ax1.scatter(place['Name'], place['Start'], s=10, c='b', marker=\"s\", label='Start Time')\n",
    "    ax1.scatter(place['Name'],place['End'], s=10, c='r', marker=\"o\", label='End Time')\n",
    "    ax1.vlines(place['Name'], place['Start'], place['End'])\n",
    "    plt.xticks(rotation = 'vertical')\n",
    "    plt.legend(loc='upper left')\n",
    "    plt.title(location)\n",
    "    plt.show()"
   ]
  },
  {
   "cell_type": "code",
   "execution_count": 67,
   "id": "d6eb1050",
   "metadata": {},
   "outputs": [
    {
     "data": {
      "image/png": "[encoded data removed]",
      "text/plain": [
       "<Figure size 1332x756 with 1 Axes>"
      ]
     },
     "metadata": {
      "needs_background": "light"
     },
     "output_type": "display_data"
    }
   ],
   "source": [
    "graphoverlaps('Library')"
   ]
  },
  {
   "cell_type": "code",
   "execution_count": 63,
   "id": "024bdf86",
   "metadata": {},
   "outputs": [
    {
     "data": {
      "text/plain": [
       "0"
      ]
     },
     "execution_count": 63,
     "metadata": {},
     "output_type": "execute_result"
    }
   ],
   "source": [
    "checkforoverlaps('Amelia Green', newdataframe)"
   ]
  },
  {
   "cell_type": "code",
   "execution_count": 73,
   "id": "10d02e03",
   "metadata": {},
   "outputs": [],
   "source": [
    "place = newdataframe[newdataframe['Location']== 'Library']\n",
    "x = list(place['Name'])\n",
    "y = list(zip(list(place['Start']), list(place['End'])))\n"
   ]
  },
  {
   "cell_type": "code",
   "execution_count": 81,
   "id": "7a6586ed",
   "metadata": {},
   "outputs": [
    {
     "ename": "ValueError",
     "evalue": "could not convert string to float: 'Teresa Jones'",
     "output_type": "error",
     "traceback": [
      "\u001b[1;31m---------------------------------------------------------------------------\u001b[0m",
      "\u001b[1;31mValueError\u001b[0m                                Traceback (most recent call last)",
      "\u001b[1;32m~\\AppData\\Local\\Temp/ipykernel_6412/300922286.py\u001b[0m in \u001b[0;36m<module>\u001b[1;34m\u001b[0m\n\u001b[0;32m      5\u001b[0m         \u001b[0mlines\u001b[0m\u001b[1;33m.\u001b[0m\u001b[0mappend\u001b[0m\u001b[1;33m(\u001b[0m\u001b[0mpair\u001b[0m\u001b[1;33m)\u001b[0m\u001b[1;33m\u001b[0m\u001b[1;33m\u001b[0m\u001b[0m\n\u001b[0;32m      6\u001b[0m \u001b[1;33m\u001b[0m\u001b[0m\n\u001b[1;32m----> 7\u001b[1;33m \u001b[0mlinecoll\u001b[0m \u001b[1;33m=\u001b[0m \u001b[0mLineCollection\u001b[0m\u001b[1;33m(\u001b[0m\u001b[0mlines\u001b[0m\u001b[1;33m,\u001b[0m \u001b[0mcolors\u001b[0m \u001b[1;33m=\u001b[0m \u001b[1;34m'k'\u001b[0m\u001b[1;33m)\u001b[0m\u001b[1;33m\u001b[0m\u001b[1;33m\u001b[0m\u001b[0m\n\u001b[0m\u001b[0;32m      8\u001b[0m \u001b[0mfig\u001b[0m\u001b[1;33m,\u001b[0m \u001b[0max\u001b[0m \u001b[1;33m=\u001b[0m \u001b[0mplt\u001b[0m\u001b[1;33m.\u001b[0m\u001b[0msubplots\u001b[0m\u001b[1;33m(\u001b[0m\u001b[1;33m)\u001b[0m\u001b[1;33m\u001b[0m\u001b[1;33m\u001b[0m\u001b[0m\n\u001b[0;32m      9\u001b[0m ax.plot(x, [i\n",
      "\u001b[1;32m~\\anaconda3\\lib\\site-packages\\matplotlib\\collections.py\u001b[0m in \u001b[0;36m__init__\u001b[1;34m(self, segments, zorder, *args, **kwargs)\u001b[0m\n\u001b[0;32m   1463\u001b[0m             \u001b[0mzorder\u001b[0m\u001b[1;33m=\u001b[0m\u001b[0mzorder\u001b[0m\u001b[1;33m,\u001b[0m\u001b[1;33m\u001b[0m\u001b[1;33m\u001b[0m\u001b[0m\n\u001b[0;32m   1464\u001b[0m             **kwargs)\n\u001b[1;32m-> 1465\u001b[1;33m         \u001b[0mself\u001b[0m\u001b[1;33m.\u001b[0m\u001b[0mset_segments\u001b[0m\u001b[1;33m(\u001b[0m\u001b[0msegments\u001b[0m\u001b[1;33m)\u001b[0m\u001b[1;33m\u001b[0m\u001b[1;33m\u001b[0m\u001b[0m\n\u001b[0m\u001b[0;32m   1466\u001b[0m \u001b[1;33m\u001b[0m\u001b[0m\n\u001b[0;32m   1467\u001b[0m     \u001b[1;32mdef\u001b[0m \u001b[0mset_segments\u001b[0m\u001b[1;33m(\u001b[0m\u001b[0mself\u001b[0m\u001b[1;33m,\u001b[0m \u001b[0msegments\u001b[0m\u001b[1;33m)\u001b[0m\u001b[1;33m:\u001b[0m\u001b[1;33m\u001b[0m\u001b[1;33m\u001b[0m\u001b[0m\n",
      "\u001b[1;32m~\\anaconda3\\lib\\site-packages\\matplotlib\\collections.py\u001b[0m in \u001b[0;36mset_segments\u001b[1;34m(self, segments)\u001b[0m\n\u001b[0;32m   1472\u001b[0m         \u001b[1;32mfor\u001b[0m \u001b[0mseg\u001b[0m \u001b[1;32min\u001b[0m \u001b[0msegments\u001b[0m\u001b[1;33m:\u001b[0m\u001b[1;33m\u001b[0m\u001b[1;33m\u001b[0m\u001b[0m\n\u001b[0;32m   1473\u001b[0m             \u001b[1;32mif\u001b[0m \u001b[1;32mnot\u001b[0m \u001b[0misinstance\u001b[0m\u001b[1;33m(\u001b[0m\u001b[0mseg\u001b[0m\u001b[1;33m,\u001b[0m \u001b[0mnp\u001b[0m\u001b[1;33m.\u001b[0m\u001b[0mma\u001b[0m\u001b[1;33m.\u001b[0m\u001b[0mMaskedArray\u001b[0m\u001b[1;33m)\u001b[0m\u001b[1;33m:\u001b[0m\u001b[1;33m\u001b[0m\u001b[1;33m\u001b[0m\u001b[0m\n\u001b[1;32m-> 1474\u001b[1;33m                 \u001b[0mseg\u001b[0m \u001b[1;33m=\u001b[0m \u001b[0mnp\u001b[0m\u001b[1;33m.\u001b[0m\u001b[0masarray\u001b[0m\u001b[1;33m(\u001b[0m\u001b[0mseg\u001b[0m\u001b[1;33m,\u001b[0m \u001b[0mfloat\u001b[0m\u001b[1;33m)\u001b[0m\u001b[1;33m\u001b[0m\u001b[1;33m\u001b[0m\u001b[0m\n\u001b[0m\u001b[0;32m   1475\u001b[0m             \u001b[0m_segments\u001b[0m\u001b[1;33m.\u001b[0m\u001b[0mappend\u001b[0m\u001b[1;33m(\u001b[0m\u001b[0mseg\u001b[0m\u001b[1;33m)\u001b[0m\u001b[1;33m\u001b[0m\u001b[1;33m\u001b[0m\u001b[0m\n\u001b[0;32m   1476\u001b[0m \u001b[1;33m\u001b[0m\u001b[0m\n",
      "\u001b[1;32m~\\anaconda3\\lib\\site-packages\\numpy\\core\\_asarray.py\u001b[0m in \u001b[0;36masarray\u001b[1;34m(a, dtype, order, like)\u001b[0m\n\u001b[0;32m    100\u001b[0m         \u001b[1;32mreturn\u001b[0m \u001b[0m_asarray_with_like\u001b[0m\u001b[1;33m(\u001b[0m\u001b[0ma\u001b[0m\u001b[1;33m,\u001b[0m \u001b[0mdtype\u001b[0m\u001b[1;33m=\u001b[0m\u001b[0mdtype\u001b[0m\u001b[1;33m,\u001b[0m \u001b[0morder\u001b[0m\u001b[1;33m=\u001b[0m\u001b[0morder\u001b[0m\u001b[1;33m,\u001b[0m \u001b[0mlike\u001b[0m\u001b[1;33m=\u001b[0m\u001b[0mlike\u001b[0m\u001b[1;33m)\u001b[0m\u001b[1;33m\u001b[0m\u001b[1;33m\u001b[0m\u001b[0m\n\u001b[0;32m    101\u001b[0m \u001b[1;33m\u001b[0m\u001b[0m\n\u001b[1;32m--> 102\u001b[1;33m     \u001b[1;32mreturn\u001b[0m \u001b[0marray\u001b[0m\u001b[1;33m(\u001b[0m\u001b[0ma\u001b[0m\u001b[1;33m,\u001b[0m \u001b[0mdtype\u001b[0m\u001b[1;33m,\u001b[0m \u001b[0mcopy\u001b[0m\u001b[1;33m=\u001b[0m\u001b[1;32mFalse\u001b[0m\u001b[1;33m,\u001b[0m \u001b[0morder\u001b[0m\u001b[1;33m=\u001b[0m\u001b[0morder\u001b[0m\u001b[1;33m)\u001b[0m\u001b[1;33m\u001b[0m\u001b[1;33m\u001b[0m\u001b[0m\n\u001b[0m\u001b[0;32m    103\u001b[0m \u001b[1;33m\u001b[0m\u001b[0m\n\u001b[0;32m    104\u001b[0m \u001b[1;33m\u001b[0m\u001b[0m\n",
      "\u001b[1;31mValueError\u001b[0m: could not convert string to float: 'Teresa Jones'"
     ]
    }
   ],
   "source": [
    "lines = []\n",
    "for i, j in zip(x, y):\n",
    "    if j[0] < j[1]:\n",
    "        pair = [(i, j[0]), (i, j[1])]\n",
    "        lines.append(pair)\n",
    "        \n",
    "linecoll = LineCollection(lines, colors = 'k')\n",
    "fig, ax = plt.subplots()\n",
    "ax.plot(x, [i\n",
    "   for (i, j) in y\n",
    "], 'rs', markersize = 4)\n",
    "ax.plot(x, [j\n",
    "   for (i, j) in y\n",
    "], 'bo', markersize = 4)\n",
    "ax.add_collection(linecoll)"
   ]
  },
  {
   "cell_type": "code",
   "execution_count": 77,
   "id": "59cdfb5f",
   "metadata": {},
   "outputs": [
    {
     "data": {
      "image/png": "[encoded data removed]",
      "text/plain": [
       "<Figure size 1332x756 with 1 Axes>"
      ]
     },
     "metadata": {
      "needs_background": "light"
     },
     "output_type": "display_data"
    }
   ],
   "source": [
    "fig  = plt.figure()\n",
    "fig.set_size_inches(18.5, 10.5)    \n",
    "ax1 = fig.add_subplot(111)\n",
    "ax1.scatter(sta['Name'], sta['Start'], s=10, c='b', marker=\"s\", label='Start Time')\n",
    "ax1.scatter(sta['Name'],sta['End'], s=10, c='r', marker=\"o\", label='End Time')\n",
    "ax1.vlines(sta['Name'], sta['Start'], sta['End'])\n",
    "plt.xticks(rotation = 'vertical')\n",
    "plt.legend(loc='upper left')\n",
    "plt.title('St Andrews')\n",
    "plt.show()\n"
   ]
  },
  {
   "cell_type": "code",
   "execution_count": null,
   "id": "31de8abd",
   "metadata": {},
   "outputs": [],
   "source": []
  }
 ],
 "metadata": {
  "kernelspec": {
   "display_name": "Python 3 (ipykernel)",
   "language": "python",
   "name": "python3"
  },
  "language_info": {
   "codemirror_mode": {
    "name": "ipython",
    "version": 3
   },
   "file_extension": ".py",
   "mimetype": "text/x-python",
   "name": "python",
   "nbconvert_exporter": "python",
   "pygments_lexer": "ipython3",
   "version": "3.9.7"
  }
 },
 "nbformat": 4,
 "nbformat_minor": 5
}
