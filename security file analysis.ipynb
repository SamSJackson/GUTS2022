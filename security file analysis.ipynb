{
 "cells": [
  {
   "cell_type": "code",
   "execution_count": 2,
   "id": "d2360e6e",
   "metadata": {},
   "outputs": [],
   "source": [
    "import pandas as pd"
   ]
  },
  {
   "cell_type": "code",
   "execution_count": 12,
   "id": "44e3c897",
   "metadata": {},
   "outputs": [],
   "source": [
    "location_data = pd.read_csv('data\\location_data.csv')\n"
   ]
  },
  {
   "cell_type": "code",
   "execution_count": 45,
   "id": "8cdc97f0",
   "metadata": {},
   "outputs": [],
   "source": [
    "people_data = pd.read_csv('data\\people_data.csv')"
   ]
  },
  {
   "cell_type": "code",
   "execution_count": 10,
   "id": "687a89cc",
   "metadata": {},
   "outputs": [],
   "source": [
    "security_data = pd.read_csv('data\\security_logs.csv')"
   ]
  },
  {
   "cell_type": "code",
   "execution_count": 25,
   "id": "84aceff4",
   "metadata": {},
   "outputs": [],
   "source": [
    "timedataframe = pd.DataFrame(security_data.Time.value_counts())"
   ]
  },
  {
   "cell_type": "code",
   "execution_count": 49,
   "id": "c1b78b2c",
   "metadata": {},
   "outputs": [],
   "source": [
    "class locations():\n",
    "    def __init__(self, location, locationname):\n",
    "        self._location = location \n",
    "        self._locationname = locationname\n",
    "        self.peoplepresent = {}\n",
    "    \n",
    "    @property\n",
    "    def location(self):\n",
    "        return self._location \n",
    "    @property\n",
    "    def locationname(self):\n",
    "        return self._locationname\n",
    "\n",
    "    \n",
    "    def peopleatlocation(self, time):\n",
    "        return self._peoplepresent[time]\n",
    "    \n",
    "    def peopleaddperson(self, time):\n",
    "        if time in self.peoplepresent:\n",
    "            self.peoplepresent[time] += 1\n",
    "        else:\n",
    "            self.peoplepresent[time] = 1\n",
    "            \n",
    "        \n",
    "    \n",
    "    \n",
    "    "
   ]
  },
  {
   "cell_type": "code",
   "execution_count": 53,
   "id": "5974ac48",
   "metadata": {},
   "outputs": [],
   "source": [
    "time  = security_data['Time'].str.split('-', expand = True)"
   ]
  },
  {
   "cell_type": "code",
   "execution_count": 58,
   "id": "191b943e",
   "metadata": {},
   "outputs": [],
   "source": [
    "newdataframe = pd.concat([security_data, time], axis = 1)"
   ]
  },
  {
   "cell_type": "code",
   "execution_count": 61,
   "id": "2b0c38f7",
   "metadata": {},
   "outputs": [],
   "source": [
    "newdataframe = newdataframe.drop('Time', axis = 1)"
   ]
  },
  {
   "cell_type": "code",
   "execution_count": 87,
   "id": "479addbf",
   "metadata": {},
   "outputs": [],
   "source": [
    "from datetime import datetime, time, date \n",
    "def convert_to_datetime(time):\n",
    "    time = time.strip()\n",
    "    time_hour = int(time[0:2])\n",
    "    time_minutes = int(time[2:4])\n",
    "    return datetime(2020, 10, 10, time_hour, time_minutes)"
   ]
  },
  {
   "cell_type": "code",
   "execution_count": 91,
   "id": "38201198",
   "metadata": {},
   "outputs": [],
   "source": [
    "newdataframe[0] = newdataframe[0].apply(convert_to_datetime)\n",
    "newdataframe[1] = newdataframe[1].apply(convert_to_datetime)\n",
    "newdataframe = newdataframe.sort_values(by=[0])"
   ]
  },
  {
   "cell_type": "code",
   "execution_count": 99,
   "id": "76736944",
   "metadata": {},
   "outputs": [
    {
     "data": {
      "text/html": [
       "<div>\n",
       "<style scoped>\n",
       "    .dataframe tbody tr th:only-of-type {\n",
       "        vertical-align: middle;\n",
       "    }\n",
       "\n",
       "    .dataframe tbody tr th {\n",
       "        vertical-align: top;\n",
       "    }\n",
       "\n",
       "    .dataframe thead th {\n",
       "        text-align: right;\n",
       "    }\n",
       "</style>\n",
       "<table border=\"1\" class=\"dataframe\">\n",
       "  <thead>\n",
       "    <tr style=\"text-align: right;\">\n",
       "      <th></th>\n",
       "      <th>Student ID</th>\n",
       "      <th>Name</th>\n",
       "      <th>Location</th>\n",
       "      <th>0</th>\n",
       "      <th>1</th>\n",
       "    </tr>\n",
       "  </thead>\n",
       "  <tbody>\n",
       "    <tr>\n",
       "      <th>1</th>\n",
       "      <td>2470551P</td>\n",
       "      <td>Melanie Patterson</td>\n",
       "      <td>Kelvingrove Park</td>\n",
       "      <td>2020-10-10 03:01:00</td>\n",
       "      <td>2020-10-10 05:33:00</td>\n",
       "    </tr>\n",
       "    <tr>\n",
       "      <th>0</th>\n",
       "      <td>2495155L</td>\n",
       "      <td>Mohamed Lloyd</td>\n",
       "      <td>Kelvingrove Park</td>\n",
       "      <td>2020-10-10 03:38:00</td>\n",
       "      <td>2020-10-10 07:16:00</td>\n",
       "    </tr>\n",
       "    <tr>\n",
       "      <th>2</th>\n",
       "      <td>2546112P</td>\n",
       "      <td>Eric Parkin</td>\n",
       "      <td>Kelvingrove Park</td>\n",
       "      <td>2020-10-10 07:20:00</td>\n",
       "      <td>2020-10-10 08:43:00</td>\n",
       "    </tr>\n",
       "    <tr>\n",
       "      <th>3</th>\n",
       "      <td>2453876J</td>\n",
       "      <td>Scott Johnston</td>\n",
       "      <td>Kelvingrove Park</td>\n",
       "      <td>2020-10-10 07:55:00</td>\n",
       "      <td>2020-10-10 07:37:00</td>\n",
       "    </tr>\n",
       "    <tr>\n",
       "      <th>16</th>\n",
       "      <td>2687223Y</td>\n",
       "      <td>Heather Yates</td>\n",
       "      <td>Kelvingrove Park</td>\n",
       "      <td>2020-10-10 08:11:00</td>\n",
       "      <td>2020-10-10 09:58:00</td>\n",
       "    </tr>\n",
       "    <tr>\n",
       "      <th>...</th>\n",
       "      <td>...</td>\n",
       "      <td>...</td>\n",
       "      <td>...</td>\n",
       "      <td>...</td>\n",
       "      <td>...</td>\n",
       "    </tr>\n",
       "    <tr>\n",
       "      <th>639</th>\n",
       "      <td>2583004W</td>\n",
       "      <td>Francis Watkins</td>\n",
       "      <td>The Hive</td>\n",
       "      <td>2020-10-10 23:53:00</td>\n",
       "      <td>2020-10-10 01:55:00</td>\n",
       "    </tr>\n",
       "    <tr>\n",
       "      <th>659</th>\n",
       "      <td>2533061J</td>\n",
       "      <td>Antony James</td>\n",
       "      <td>Kelvingrove Park</td>\n",
       "      <td>2020-10-10 23:53:00</td>\n",
       "      <td>2020-10-10 03:40:00</td>\n",
       "    </tr>\n",
       "    <tr>\n",
       "      <th>636</th>\n",
       "      <td>2446001M</td>\n",
       "      <td>Vincent Miah</td>\n",
       "      <td>Kelvingrove Park</td>\n",
       "      <td>2020-10-10 23:53:00</td>\n",
       "      <td>2020-10-10 02:47:00</td>\n",
       "    </tr>\n",
       "    <tr>\n",
       "      <th>634</th>\n",
       "      <td>2739531T</td>\n",
       "      <td>Hollie Taylor</td>\n",
       "      <td>Library</td>\n",
       "      <td>2020-10-10 23:54:00</td>\n",
       "      <td>2020-10-10 02:00:00</td>\n",
       "    </tr>\n",
       "    <tr>\n",
       "      <th>649</th>\n",
       "      <td>2818528C</td>\n",
       "      <td>Paul Cox</td>\n",
       "      <td>Kelvingrove Park</td>\n",
       "      <td>2020-10-10 23:55:00</td>\n",
       "      <td>2020-10-10 01:41:00</td>\n",
       "    </tr>\n",
       "  </tbody>\n",
       "</table>\n",
       "<p>662 rows × 5 columns</p>\n",
       "</div>"
      ],
      "text/plain": [
       "    Student ID               Name          Location                   0  \\\n",
       "1     2470551P  Melanie Patterson  Kelvingrove Park 2020-10-10 03:01:00   \n",
       "0     2495155L      Mohamed Lloyd  Kelvingrove Park 2020-10-10 03:38:00   \n",
       "2     2546112P        Eric Parkin  Kelvingrove Park 2020-10-10 07:20:00   \n",
       "3     2453876J     Scott Johnston  Kelvingrove Park 2020-10-10 07:55:00   \n",
       "16    2687223Y      Heather Yates  Kelvingrove Park 2020-10-10 08:11:00   \n",
       "..         ...                ...               ...                 ...   \n",
       "639   2583004W    Francis Watkins          The Hive 2020-10-10 23:53:00   \n",
       "659   2533061J       Antony James  Kelvingrove Park 2020-10-10 23:53:00   \n",
       "636   2446001M       Vincent Miah  Kelvingrove Park 2020-10-10 23:53:00   \n",
       "634   2739531T      Hollie Taylor           Library 2020-10-10 23:54:00   \n",
       "649   2818528C           Paul Cox  Kelvingrove Park 2020-10-10 23:55:00   \n",
       "\n",
       "                      1  \n",
       "1   2020-10-10 05:33:00  \n",
       "0   2020-10-10 07:16:00  \n",
       "2   2020-10-10 08:43:00  \n",
       "3   2020-10-10 07:37:00  \n",
       "16  2020-10-10 09:58:00  \n",
       "..                  ...  \n",
       "639 2020-10-10 01:55:00  \n",
       "659 2020-10-10 03:40:00  \n",
       "636 2020-10-10 02:47:00  \n",
       "634 2020-10-10 02:00:00  \n",
       "649 2020-10-10 01:41:00  \n",
       "\n",
       "[662 rows x 5 columns]"
      ]
     },
     "execution_count": 99,
     "metadata": {},
     "output_type": "execute_result"
    }
   ],
   "source": [
    "newdataframe"
   ]
  },
  {
   "cell_type": "code",
   "execution_count": null,
   "id": "dd22d93f",
   "metadata": {},
   "outputs": [],
   "source": []
  }
 ],
 "metadata": {
  "kernelspec": {
   "display_name": "Python 3 (ipykernel)",
   "language": "python",
   "name": "python3"
  },
  "language_info": {
   "codemirror_mode": {
    "name": "ipython",
    "version": 3
   },
   "file_extension": ".py",
   "mimetype": "text/x-python",
   "name": "python",
   "nbconvert_exporter": "python",
   "pygments_lexer": "ipython3",
   "version": "3.9.7"
  }
 },
 "nbformat": 4,
 "nbformat_minor": 5
}
