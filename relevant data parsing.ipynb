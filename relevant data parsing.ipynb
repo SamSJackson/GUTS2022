{
 "cells": [
  {
   "cell_type": "code",
   "execution_count": 2,
   "id": "d62571d6",
   "metadata": {},
   "outputs": [],
   "source": [
    "import pandas as pd\n",
    "import matplotlib.pyplot as plt\n",
    "from datetime import datetime, time, timedelta\n",
    "import json"
   ]
  },
  {
   "cell_type": "code",
   "execution_count": 3,
   "id": "5bad11c6",
   "metadata": {},
   "outputs": [],
   "source": [
    "security_data = pd.read_csv('data\\security_logs.csv')"
   ]
  },
  {
   "cell_type": "code",
   "execution_count": 84,
   "id": "16a2877e",
   "metadata": {},
   "outputs": [],
   "source": [
    "class Visit(dict):\n",
    "    def __init__(self, student_id, time_start, time_end, location):\n",
    "        self._student_id = student_id;\n",
    "        self._location = location;\n",
    "        self._start = str(time_start);\n",
    "        self._end = str(time_end);\n",
    "        dict.__init__(self, student_id=self._student_id, location=self._location, start=self._start, end=self._end)\n",
    "    \n",
    "    @property\n",
    "    def student_id(self):\n",
    "        return self._student_id\n",
    "    \n",
    "    @property\n",
    "    def location(self):\n",
    "        return self._location;\n",
    "    \n",
    "    def __str__(self):\n",
    "        return self._student_id + \" \" + self._location\n",
    "    \n",
    "    def __repr__(self):\n",
    "        return self._location + \" - \" + self._student_id + \" : \"  + str(self._start) + \" - \" + str(self._end)"
   ]
  },
  {
   "cell_type": "code",
   "execution_count": 138,
   "id": "a815a01e",
   "metadata": {},
   "outputs": [],
   "source": [
    "class Lecture(dict):\n",
    "    def __init__(self, lecture_name, start, end):\n",
    "        self._name = lecture_name\n",
    "        self._start = str(start)\n",
    "        self._end = str(end)\n",
    "        dict.__init__(self, name=self._name, start=self._start, end=self._end)\n",
    "        \n",
    "    def __str__(self):\n",
    "        return self._name + \" : \" + self._start + \" - \" + self._end \n",
    "    \n",
    "    def __repr__(self):\n",
    "        return self._name + \" : \" + self._start + \" - \" + self._end "
   ]
  },
  {
   "cell_type": "code",
   "execution_count": 216,
   "id": "c69ac8a5",
   "metadata": {},
   "outputs": [],
   "source": [
    "class Person(dict):\n",
    "    def __init__(self, name, student_id):\n",
    "        self._name = name;\n",
    "        self._student_id = student_id;\n",
    "        self._visits = []\n",
    "        self._interview = \"\"\n",
    "        dict.__init__(self, name=self._name, student_id=self._student_id, visits=self._visits, interview=self._interview)\n",
    "        \n",
    "    @property\n",
    "    def name(self):\n",
    "        return self._name\n",
    "    \n",
    "    @property\n",
    "    def visits(self):\n",
    "        return self._visits\n",
    "    \n",
    "    @property\n",
    "    def student_id(self):\n",
    "        return self._student_id\n",
    "    \n",
    "    def add_visit(self, visit):\n",
    "        self._visits.append(visit)\n",
    "        dict.__init__(self, name=self._name, student_id=self._student_id, visits=self._visits, interview=self._interview)\n",
    "        \n",
    "    def add_interview(self, interview):\n",
    "        self._interview = interview\n",
    "    \n",
    "    def __str__(self):\n",
    "        return self._student_id + \" : \" + self._name \n",
    "\n",
    "    def __repr__(self):\n",
    "        return self._student_id + \" : \" + self._name\n",
    "        "
   ]
  },
  {
   "cell_type": "code",
   "execution_count": 217,
   "id": "965ffcd7",
   "metadata": {},
   "outputs": [],
   "source": [
    "class Building(dict):\n",
    "    def __init__(self, building_name, open_time, close_time, geo_loc, description):\n",
    "        self._name = building_name\n",
    "        self._opens = str(open_time)\n",
    "        self._closes = str(close_time)\n",
    "        self._geo_loc = geo_loc\n",
    "        self._description = description\n",
    "        self._visits = []\n",
    "        dict.__init__(self, name=self._name, opens=self._opens, closes=self._closes, \n",
    "                    geo_loc=self._geo_loc, description=self._description,\n",
    "                    visits=self._visits)\n",
    "    @property\n",
    "    def name(self):\n",
    "        return self._name\n",
    "    \n",
    "    @property\n",
    "    def description(self):\n",
    "        return self._description\n",
    "    \n",
    "    def add_visit(self, visit):\n",
    "        self._visits.append(visit)\n",
    "        dict.__init__(self, name=self._name, opens=self._opens, closes=self._closes, \n",
    "                    geo_loc=self._geo_loc, description=self._description,\n",
    "                    visits=self._visits)\n",
    "    @property\n",
    "    def lecture(self):\n",
    "        return self._lecture\n",
    "    \n",
    "    def add_lecture(self, lecture):\n",
    "        self._lecture = lecture\n",
    "    \n",
    "    def __str__(self):\n",
    "        return self._name + \" : \" + str(self._opens) + \" - \" + str(self._closes)\n",
    "    \n",
    "    def __repr__(self):\n",
    "        return self._name + \" - \" + str(self._lecture) + \" : \" + str(self._opens) + \" - \" + str(self._closes)"
   ]
  },
  {
   "cell_type": "code",
   "execution_count": 218,
   "id": "1f8da152",
   "metadata": {},
   "outputs": [],
   "source": [
    "def convert_to_datetime(time):\n",
    "    time = time.strip()\n",
    "    time_hour = int(time[0:2])\n",
    "    time_minutes = int(time[2:4])\n",
    "    day = 11 if time_hour < 6 else 10\n",
    "    return datetime(2020, 10, day, time_hour, time_minutes)"
   ]
  },
  {
   "cell_type": "code",
   "execution_count": 219,
   "id": "0aff76b8",
   "metadata": {},
   "outputs": [],
   "source": [
    "timedataframe = pd.DataFrame(security_data.Time.value_counts())\n",
    "time  = security_data['Time'].str.split('-', expand = True)\n",
    "security_df = pd.concat([security_data, time], axis = 1)\n",
    "security_df = security_df.drop('Time', axis = 1)\n",
    "security_df = security_df.rename(columns = {0: 'Start', 1: 'End'})\n",
    "security_df['Start'] = security_df['Start'].apply(convert_to_datetime)\n",
    "security_df['End'] = security_df['End'].apply(convert_to_datetime)"
   ]
  },
  {
   "cell_type": "code",
   "execution_count": 220,
   "id": "f3a0c261",
   "metadata": {},
   "outputs": [],
   "source": [
    "people_file = open(\"data\\people_data.csv\")\n",
    "people_lines = people_file.readlines()\n",
    "people_file.close()\n",
    "all_people = []\n",
    "for line in people_lines[1:]:\n",
    "    split_line = line.strip().split(\",\")\n",
    "    student_id = split_line[0]\n",
    "    name = split_line[1]\n",
    "    person = Person(name, student_id)\n",
    "    all_people.append(person)"
   ]
  },
  {
   "cell_type": "code",
   "execution_count": 237,
   "id": "5ec98d61",
   "metadata": {},
   "outputs": [],
   "source": [
    "statements_file = open(\"Statements.csv\")\n",
    "statements_lines = statements_file.readlines()\n",
    "statements_file.close()\n",
    "for line in statements_lines:\n",
    "    split_line = line.strip().split(\",\")\n",
    "    name = split_line[0]\n",
    "    interview = split_line[1].strip()\n",
    "    for person in all_people:\n",
    "        if name == person.name:\n",
    "            person.add_interview(interview)"
   ]
  },
  {
   "cell_type": "code",
   "execution_count": 232,
   "id": "6481fdb0",
   "metadata": {},
   "outputs": [
    {
     "name": "stdout",
     "output_type": "stream",
     "text": [
      "[55.8730105, -4.2925361]\n",
      "[55.8708777, -4.2893462]\n",
      "[55.8737694, -4.2920551]\n",
      "[55.8714732, -4.2927198]\n",
      "[55.8729239, -4.295317]\n",
      "[55.8723758, -4.285949]\n",
      "[55.8728276, -4.2844698]\n",
      "[55.8739511, -4.2940459]\n",
      "[55.8739571, -4.2940459]\n",
      "[55.8735992, -4.2935842]\n",
      "[55.8717345, -4.2818099]\n",
      "[55.8689911, -4.2847528]\n",
      "[55.8721791, -4.2925265]\n",
      "[55.8721791, -4.2925265]\n"
     ]
    }
   ],
   "source": [
    "locations_file = open(\"data\\location_data.csv\")\n",
    "locations_lines = locations_file.readlines()\n",
    "locations_file.close()\n",
    "all_locations = []\n",
    "for line in locations_lines[1:]:\n",
    "    split_line = line.strip().split(\",\")\n",
    "    name = split_line[0]\n",
    "    geo_loc = list(map(float, split_line[1][1:-1].split()))\n",
    "    opens, closes = list(map(convert_to_datetime, split_line[2].split(\"-\")))\n",
    "    description = split_line[3]\n",
    "    location = Building(name, opens, closes, geo_loc, description)\n",
    "    all_locations.append(location)"
   ]
  },
  {
   "cell_type": "code",
   "execution_count": 233,
   "id": "05a15c1b",
   "metadata": {},
   "outputs": [],
   "source": [
    "lecture_file = open(\"data\\lecture_data.csv\")\n",
    "lecture_lines = lecture_file.readlines()\n",
    "lecture_file.close()\n",
    "all_lectures = []\n",
    "for line in lecture_lines[1:]:\n",
    "    split_line = line.strip().split(\",\")\n",
    "    building_name = split_line[0]\n",
    "    opens, closes = list(map(convert_to_datetime, split_line[1].split(\"-\")))\n",
    "    lecture_name = split_line[2]\n",
    "    lecture_start, lecture_end = list(map(convert_to_datetime, split_line[1].split(\"-\")))\n",
    "    lecture = Lecture(lecture_name, lecture_start, lecture_end)\n",
    "    for location in all_locations:\n",
    "        if location.name == building_name:\n",
    "            location.add_lecture(lecture)\n",
    "            break"
   ]
  },
  {
   "cell_type": "code",
   "execution_count": 234,
   "id": "049d98a7",
   "metadata": {},
   "outputs": [],
   "source": [
    "visits_file = open(\"data\\security_logs.csv\")\n",
    "visits_lines = visits_file.readlines()\n",
    "visits_file.close()\n",
    "for line in visits_lines[1:]:\n",
    "    split_line = line.strip().split(\",\")\n",
    "    student_id = split_line[0]\n",
    "    building_name = split_line[2]\n",
    "    start_time, end_time = list(map(convert_to_datetime, split_line[3].split(\"-\")))\n",
    "    visit = Visit(student_id, start_time, end_time, building_name)\n",
    "    for person in all_people:\n",
    "        if person.student_id == student_id:\n",
    "            person.add_visit(visit)\n",
    "            break\n",
    "    for location in all_locations:\n",
    "        if location.name == building_name:\n",
    "            location.add_visit(visit)\n",
    "            break"
   ]
  },
  {
   "cell_type": "code",
   "execution_count": 238,
   "id": "857c3924",
   "metadata": {},
   "outputs": [],
   "source": [
    "with open('data\\people_json.json', 'w') as f:\n",
    "    json.dump(all_people, f)"
   ]
  },
  {
   "cell_type": "code",
   "execution_count": 236,
   "id": "c32b1539",
   "metadata": {},
   "outputs": [],
   "source": [
    "with open(\"data\\location_json.json\", 'w') as f:\n",
    "    json.dump(all_locations, f)"
   ]
  },
  {
   "cell_type": "code",
   "execution_count": null,
   "id": "ee7c3a3f",
   "metadata": {},
   "outputs": [],
   "source": []
  }
 ],
 "metadata": {
  "kernelspec": {
   "display_name": "Python 3 (ipykernel)",
   "language": "python",
   "name": "python3"
  },
  "language_info": {
   "codemirror_mode": {
    "name": "ipython",
    "version": 3
   },
   "file_extension": ".py",
   "mimetype": "text/x-python",
   "name": "python",
   "nbconvert_exporter": "python",
   "pygments_lexer": "ipython3",
   "version": "3.9.6"
  }
 },
 "nbformat": 4,
 "nbformat_minor": 5
}
